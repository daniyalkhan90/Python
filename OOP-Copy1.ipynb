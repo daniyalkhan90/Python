{
 "cells": [
  {
   "cell_type": "markdown",
   "metadata": {},
   "source": [
    "# Object Oriented Programming(OOP):"
   ]
  },
  {
   "cell_type": "markdown",
   "metadata": {},
   "source": [
    "- Class\n",
    "- Instance\n",
    "- Method\n",
    "- Attributes/properties\n",
    "- Class variable\n",
    "- Instance variable\n",
    "- Inheritance\n",
    "- Encapsulation\n",
    "- Abstraction\n",
    "- Polymorphism"
   ]
  },
  {
   "cell_type": "markdown",
   "metadata": {},
   "source": [
    "# CLASS"
   ]
  },
  {
   "cell_type": "code",
   "execution_count": 174,
   "metadata": {},
   "outputs": [],
   "source": [
    "class Students():\n",
    "    \n",
    "    school = \"Stanmore Public School\"    # class variable\n",
    "    \n",
    "    def __init__(self, name, f_name, course):  # constructor\n",
    "        self.name = name   # attributes/properties\n",
    "        self.f_name = f_name\n",
    "        self.course = course\n",
    "        self.school = \"Stanmore Public School\"\n",
    "        \n",
    "    def speaking(self, words = \"urdu\"):   #methods(these are functons but in a class they are calles methods)\n",
    "        print(\"I am speaking\", words)\n",
    "        \n",
    "    def playing(self, game = \"cricket\"):\n",
    "        print(\"I am playing \", game)\n",
    "        \n",
    "    def eating(self, eat = \"lunch\"):\n",
    "        print(\"I am eating \", eat)\n",
    "        \n",
    "    def sleeping(slef, sleep = \"zZzZ\"):\n",
    "        print(\"I am \", sleep)"
   ]
  },
  {
   "cell_type": "code",
   "execution_count": 175,
   "metadata": {},
   "outputs": [],
   "source": [
    "student_1 = Students(\"Aslam\", \"Zafar\", \"AI\")\n",
    "student_2 = Students(\"Daniyal\", \"Qaiser\", \"AI\")\n",
    "student_3 = Students(\"Taha\", \"Saif\", \"AI\")"
   ]
  },
  {
   "cell_type": "code",
   "execution_count": 176,
   "metadata": {},
   "outputs": [
    {
     "data": {
      "text/plain": [
       "'Qaiser'"
      ]
     },
     "execution_count": 176,
     "metadata": {},
     "output_type": "execute_result"
    }
   ],
   "source": [
    "student_2.f_name"
   ]
  },
  {
   "cell_type": "code",
   "execution_count": 177,
   "metadata": {},
   "outputs": [
    {
     "data": {
      "text/plain": [
       "'Aslam'"
      ]
     },
     "execution_count": 177,
     "metadata": {},
     "output_type": "execute_result"
    }
   ],
   "source": [
    "student_1.name"
   ]
  },
  {
   "cell_type": "code",
   "execution_count": 178,
   "metadata": {},
   "outputs": [
    {
     "data": {
      "text/plain": [
       "'AI'"
      ]
     },
     "execution_count": 178,
     "metadata": {},
     "output_type": "execute_result"
    }
   ],
   "source": [
    "student_2.course"
   ]
  },
  {
   "cell_type": "code",
   "execution_count": 179,
   "metadata": {},
   "outputs": [
    {
     "data": {
      "text/plain": [
       "'Taha'"
      ]
     },
     "execution_count": 179,
     "metadata": {},
     "output_type": "execute_result"
    }
   ],
   "source": [
    "student_3.name"
   ]
  },
  {
   "cell_type": "code",
   "execution_count": 180,
   "metadata": {},
   "outputs": [
    {
     "name": "stdout",
     "output_type": "stream",
     "text": [
      "I am eating  lunch\n"
     ]
    }
   ],
   "source": [
    "student_1.eating()  #student_1.press tab for methods and attributes"
   ]
  },
  {
   "cell_type": "code",
   "execution_count": 181,
   "metadata": {},
   "outputs": [
    {
     "name": "stdout",
     "output_type": "stream",
     "text": [
      "I am playing  cricket\n"
     ]
    }
   ],
   "source": [
    "student_3.playing()"
   ]
  },
  {
   "cell_type": "code",
   "execution_count": 182,
   "metadata": {},
   "outputs": [
    {
     "name": "stdout",
     "output_type": "stream",
     "text": [
      "I am speaking English\n"
     ]
    }
   ],
   "source": [
    "student_3.speaking(\"English\")"
   ]
  },
  {
   "cell_type": "code",
   "execution_count": 183,
   "metadata": {},
   "outputs": [
    {
     "name": "stdout",
     "output_type": "stream",
     "text": [
      "I am playing  Hockey\n"
     ]
    }
   ],
   "source": [
    "student_2.playing(\"Hockey\")"
   ]
  },
  {
   "cell_type": "code",
   "execution_count": 184,
   "metadata": {},
   "outputs": [
    {
     "name": "stdout",
     "output_type": "stream",
     "text": [
      "I am  zZzZ\n"
     ]
    }
   ],
   "source": [
    "student_3.sleeping()"
   ]
  },
  {
   "cell_type": "code",
   "execution_count": 224,
   "metadata": {},
   "outputs": [],
   "source": [
    "class Dog():# Class\n",
    "    \n",
    "    counter=0 # Class Variable\n",
    "    \n",
    "    def __init__(self,name,age): # Constructor\n",
    "        self.name=name # Attribute/properties\n",
    "        self.age=age #Attribute\n",
    "        Dog.counter = Dog.counter + 1\n",
    "        print(\"This is {} and {} old. Total Dogs are {}\".format(name,age,Dog.counter))\n",
    "        \n",
    "    \n",
    "    def bark(self,words): # Method\n",
    "        return words+\"....!\""
   ]
  },
  {
   "cell_type": "code",
   "execution_count": 225,
   "metadata": {},
   "outputs": [
    {
     "name": "stdout",
     "output_type": "stream",
     "text": [
      "This is Wille and 3 old. Total Dogs are 1\n",
      "This is Billie and 5 old. Total Dogs are 2\n",
      "This is Tille and 10 old. Total Dogs are 3\n"
     ]
    }
   ],
   "source": [
    "d1 = Dog('Wille',3)\n",
    "d2 = Dog(\"Billie\", 5)\n",
    "d3 = Dog(\"Tille\",10)"
   ]
  },
  {
   "cell_type": "code",
   "execution_count": 226,
   "metadata": {},
   "outputs": [
    {
     "data": {
      "text/plain": [
       "3"
      ]
     },
     "execution_count": 226,
     "metadata": {},
     "output_type": "execute_result"
    }
   ],
   "source": [
    "d1.age"
   ]
  },
  {
   "cell_type": "code",
   "execution_count": 228,
   "metadata": {},
   "outputs": [],
   "source": [
    "d1.age = 20"
   ]
  },
  {
   "cell_type": "code",
   "execution_count": 229,
   "metadata": {},
   "outputs": [
    {
     "data": {
      "text/plain": [
       "20"
      ]
     },
     "execution_count": 229,
     "metadata": {},
     "output_type": "execute_result"
    }
   ],
   "source": [
    "d1.age"
   ]
  },
  {
   "cell_type": "markdown",
   "metadata": {},
   "source": [
    "# INHERITANCE"
   ]
  },
  {
   "cell_type": "code",
   "execution_count": 185,
   "metadata": {},
   "outputs": [],
   "source": [
    "class New_students(Students):\n",
    "    pass"
   ]
  },
  {
   "cell_type": "code",
   "execution_count": 186,
   "metadata": {},
   "outputs": [],
   "source": [
    "new_student_1 = New_students(\"Jamal\", \"Tahir\", \"AI\")\n",
    "new_student_2 = New_students(\"Adil\", \"Huzaifa\", \"AI\")\n",
    "new_student_3 = New_students(\"Hamza\", \"Basit\", \"AI\")\n",
    "new_student_4 = New_students(\"Ghufran\", \"Bilal\", \"AI\")"
   ]
  },
  {
   "cell_type": "code",
   "execution_count": 187,
   "metadata": {},
   "outputs": [
    {
     "data": {
      "text/plain": [
       "'Huzaifa'"
      ]
     },
     "execution_count": 187,
     "metadata": {},
     "output_type": "execute_result"
    }
   ],
   "source": [
    "new_student_2.f_name"
   ]
  },
  {
   "cell_type": "code",
   "execution_count": 188,
   "metadata": {},
   "outputs": [
    {
     "name": "stdout",
     "output_type": "stream",
     "text": [
      "I am playing  cricket\n"
     ]
    }
   ],
   "source": [
    "new_student_4.playing()"
   ]
  },
  {
   "cell_type": "code",
   "execution_count": 189,
   "metadata": {},
   "outputs": [
    {
     "name": "stdout",
     "output_type": "stream",
     "text": [
      "I am eating  loaf\n"
     ]
    }
   ],
   "source": [
    "new_student_1.eating(\"loaf\")"
   ]
  },
  {
   "cell_type": "code",
   "execution_count": 190,
   "metadata": {},
   "outputs": [
    {
     "data": {
      "text/plain": [
       "'Stanmore Public School'"
      ]
     },
     "execution_count": 190,
     "metadata": {},
     "output_type": "execute_result"
    }
   ],
   "source": [
    "Students.school"
   ]
  },
  {
   "cell_type": "code",
   "execution_count": 191,
   "metadata": {},
   "outputs": [
    {
     "data": {
      "text/plain": [
       "'Stanmore Public School'"
      ]
     },
     "execution_count": 191,
     "metadata": {},
     "output_type": "execute_result"
    }
   ],
   "source": [
    "New_students.school"
   ]
  },
  {
   "cell_type": "code",
   "execution_count": 205,
   "metadata": {},
   "outputs": [],
   "source": [
    "class A():\n",
    "    def __init__(self):\n",
    "        self.nationality = \"Pakistani\"\n",
    "        self.Language = \"Urdu\"\n",
    "        \n",
    "    def speaking(self, words):\n",
    "        return \"He is speaking \" + words\n",
    "    \n",
    "class B(A):\n",
    "    pass\n",
    "\n",
    "Daniyal = B()"
   ]
  },
  {
   "cell_type": "code",
   "execution_count": 206,
   "metadata": {},
   "outputs": [
    {
     "data": {
      "text/plain": [
       "'Pakistani'"
      ]
     },
     "execution_count": 206,
     "metadata": {},
     "output_type": "execute_result"
    }
   ],
   "source": [
    "Daniyal.nationality"
   ]
  },
  {
   "cell_type": "code",
   "execution_count": 207,
   "metadata": {},
   "outputs": [
    {
     "data": {
      "text/plain": [
       "'Urdu'"
      ]
     },
     "execution_count": 207,
     "metadata": {},
     "output_type": "execute_result"
    }
   ],
   "source": [
    "Daniyal.Language"
   ]
  },
  {
   "cell_type": "code",
   "execution_count": 208,
   "metadata": {},
   "outputs": [
    {
     "data": {
      "text/plain": [
       "'He is speaking English'"
      ]
     },
     "execution_count": 208,
     "metadata": {},
     "output_type": "execute_result"
    }
   ],
   "source": [
    "Daniyal.speaking(\"English\")"
   ]
  },
  {
   "cell_type": "code",
   "execution_count": 209,
   "metadata": {},
   "outputs": [],
   "source": [
    "class Employee():\n",
    "    def __init__(self, first_name, last_name, pay):\n",
    "        self.first_name = first_name\n",
    "        self.last_name = last_name\n",
    "        self.pay = pay\n",
    "        self.xyz = 0\n",
    "        \n",
    "    def display_details(self):\n",
    "        print(self.first_name, self.last_name, self.pay)"
   ]
  },
  {
   "cell_type": "code",
   "execution_count": 210,
   "metadata": {},
   "outputs": [],
   "source": [
    "emp_1 = Employee('Muhammad', 'Osama', 100000)\n",
    "emp_2 = Employee(\"Daniyal\", \"Qaiser\", 200000)"
   ]
  },
  {
   "cell_type": "code",
   "execution_count": 212,
   "metadata": {},
   "outputs": [
    {
     "name": "stdout",
     "output_type": "stream",
     "text": [
      "Muhammad Osama 100000\n"
     ]
    }
   ],
   "source": [
    "emp_1.display_details()"
   ]
  },
  {
   "cell_type": "code",
   "execution_count": 213,
   "metadata": {},
   "outputs": [
    {
     "data": {
      "text/plain": [
       "200000"
      ]
     },
     "execution_count": 213,
     "metadata": {},
     "output_type": "execute_result"
    }
   ],
   "source": [
    "emp_2.pay"
   ]
  },
  {
   "cell_type": "code",
   "execution_count": 214,
   "metadata": {},
   "outputs": [],
   "source": [
    "class Developer(Employee):\n",
    "    def __init__(self, first_name, last_name, pay, designation):\n",
    "        super().__init__(first_name, last_name, pay)\n",
    "        self.designation = designation\n",
    "        print(self.designation)"
   ]
  },
  {
   "cell_type": "code",
   "execution_count": 216,
   "metadata": {},
   "outputs": [
    {
     "name": "stdout",
     "output_type": "stream",
     "text": [
      "Pyhton Developer\n",
      "software developer\n"
     ]
    }
   ],
   "source": [
    "dev_1 = Developer('Muhammad', 'Osama', 1000, 'Pyhton Developer')\n",
    "dev_2 = Developer('Daniyal', 'Qaiser', 200000, 'software developer')"
   ]
  },
  {
   "cell_type": "code",
   "execution_count": 217,
   "metadata": {},
   "outputs": [
    {
     "data": {
      "text/plain": [
       "'Pyhton Developer'"
      ]
     },
     "execution_count": 217,
     "metadata": {},
     "output_type": "execute_result"
    }
   ],
   "source": [
    "dev_1.designation"
   ]
  },
  {
   "cell_type": "code",
   "execution_count": 218,
   "metadata": {},
   "outputs": [
    {
     "data": {
      "text/plain": [
       "'Qaiser'"
      ]
     },
     "execution_count": 218,
     "metadata": {},
     "output_type": "execute_result"
    }
   ],
   "source": [
    "dev_2.last_name"
   ]
  },
  {
   "cell_type": "code",
   "execution_count": 221,
   "metadata": {},
   "outputs": [
    {
     "name": "stdout",
     "output_type": "stream",
     "text": [
      "Muhammad Osama 1000\n"
     ]
    }
   ],
   "source": [
    "dev_1.display_details()"
   ]
  },
  {
   "cell_type": "markdown",
   "metadata": {},
   "source": [
    "# INSTANCE"
   ]
  },
  {
   "cell_type": "code",
   "execution_count": 192,
   "metadata": {},
   "outputs": [],
   "source": [
    "#INSTANCE = The object is said to be instance of that class whom constructor it follows.\n",
    "#e.g: student_1 belongs to the class students. So, student_1 is the instance of \"Students\" class. "
   ]
  },
  {
   "cell_type": "markdown",
   "metadata": {},
   "source": [
    "# POLYMORPHISIM"
   ]
  },
  {
   "cell_type": "markdown",
   "metadata": {},
   "source": [
    " - Over Riding : The function of a parent class which repeats in child class is called Over Riding"
   ]
  },
  {
   "cell_type": "code",
   "execution_count": 223,
   "metadata": {},
   "outputs": [
    {
     "name": "stdout",
     "output_type": "stream",
     "text": [
      "Child\n",
      "Hello World Child..\n"
     ]
    }
   ],
   "source": [
    "class A():\n",
    "    def __init__(self):\n",
    "        print(\"Parent\")\n",
    "    \n",
    "    def speaking(self): \n",
    "        print(\"hello I am parent...\")\n",
    "\n",
    "class B(A):\n",
    "    def __init__(self): # Over Riding\n",
    "        self.words=None\n",
    "        print(\"Child\")\n",
    "    \n",
    "    def speaking(self): #Over Riding\n",
    "        print(\"Hello World Child..\")\n",
    "    \n",
    "        \n",
    "x1=B()\n",
    "x1.speaking() # The function has been over ride so it will display the results of the child class."
   ]
  },
  {
   "cell_type": "markdown",
   "metadata": {},
   "source": [
    "# ENCAPSULATION"
   ]
  },
  {
   "cell_type": "markdown",
   "metadata": {},
   "source": [
    " - ENCAPSULATION : The methods and attributes of the class which is encupsulated are hidden from others and they are not directly accessable.To make a method or attribute encupsulated we put two underscores before each method or attribute."
   ]
  },
  {
   "cell_type": "code",
   "execution_count": 262,
   "metadata": {},
   "outputs": [
    {
     "data": {
      "text/plain": [
       "'Name is Daniyal and age is 18'"
      ]
     },
     "execution_count": 262,
     "metadata": {},
     "output_type": "execute_result"
    }
   ],
   "source": [
    "class A():\n",
    "    def __init__(self, name, age):\n",
    "        self.__name = name\n",
    "        self.__age = age\n",
    "        \n",
    "    def Display(self):\n",
    "        return \"Name is {} and age is {}\".format(self.__name, self.__age)\n",
    "    \n",
    "    def setValues(self,name,age):   # This function is use to update values.\n",
    "        self.__name=name\n",
    "        self.__age=age\n",
    "    \n",
    "    def __Hello(self):\n",
    "        return \"Hi\"\n",
    "    \n",
    "p1 = A(\"Daniyal\", 18)\n",
    "p1.Display()"
   ]
  },
  {
   "cell_type": "code",
   "execution_count": 263,
   "metadata": {},
   "outputs": [
    {
     "ename": "AttributeError",
     "evalue": "'A' object has no attribute 'name'",
     "output_type": "error",
     "traceback": [
      "\u001b[1;31m---------------------------------------------------------------------------\u001b[0m",
      "\u001b[1;31mAttributeError\u001b[0m                            Traceback (most recent call last)",
      "\u001b[1;32m<ipython-input-263-f1b11fd0df2f>\u001b[0m in \u001b[0;36m<module>\u001b[1;34m\u001b[0m\n\u001b[1;32m----> 1\u001b[1;33m \u001b[0mp1\u001b[0m\u001b[1;33m.\u001b[0m\u001b[0mname\u001b[0m \u001b[1;31m# It is not directly accessable\u001b[0m\u001b[1;33m\u001b[0m\u001b[1;33m\u001b[0m\u001b[0m\n\u001b[0m",
      "\u001b[1;31mAttributeError\u001b[0m: 'A' object has no attribute 'name'"
     ]
    }
   ],
   "source": [
    "p1.name # It is not directly accessable"
   ]
  },
  {
   "cell_type": "code",
   "execution_count": 264,
   "metadata": {},
   "outputs": [
    {
     "data": {
      "text/plain": [
       "'Daniyal'"
      ]
     },
     "execution_count": 264,
     "metadata": {},
     "output_type": "execute_result"
    }
   ],
   "source": [
    "p1._A__name"
   ]
  },
  {
   "cell_type": "code",
   "execution_count": 265,
   "metadata": {},
   "outputs": [
    {
     "data": {
      "text/plain": [
       "'Name is Daniyal and age is 18'"
      ]
     },
     "execution_count": 265,
     "metadata": {},
     "output_type": "execute_result"
    }
   ],
   "source": [
    "p1.Display()"
   ]
  },
  {
   "cell_type": "code",
   "execution_count": 266,
   "metadata": {},
   "outputs": [],
   "source": [
    "p1.setValues(\"ALi\", \"21\")"
   ]
  },
  {
   "cell_type": "code",
   "execution_count": 267,
   "metadata": {},
   "outputs": [
    {
     "data": {
      "text/plain": [
       "'Name is ALi and age is 21'"
      ]
     },
     "execution_count": 267,
     "metadata": {},
     "output_type": "execute_result"
    }
   ],
   "source": [
    "p1.Display()"
   ]
  },
  {
   "cell_type": "code",
   "execution_count": 268,
   "metadata": {},
   "outputs": [],
   "source": [
    "p1._A__name = \"Zafar\""
   ]
  },
  {
   "cell_type": "code",
   "execution_count": 269,
   "metadata": {},
   "outputs": [
    {
     "data": {
      "text/plain": [
       "'Zafar'"
      ]
     },
     "execution_count": 269,
     "metadata": {},
     "output_type": "execute_result"
    }
   ],
   "source": [
    "p1._A__name"
   ]
  },
  {
   "cell_type": "code",
   "execution_count": 270,
   "metadata": {},
   "outputs": [
    {
     "data": {
      "text/plain": [
       "'Name is Zafar and age is 21'"
      ]
     },
     "execution_count": 270,
     "metadata": {},
     "output_type": "execute_result"
    }
   ],
   "source": [
    "p1.Display()"
   ]
  },
  {
   "cell_type": "code",
   "execution_count": 272,
   "metadata": {},
   "outputs": [
    {
     "data": {
      "text/plain": [
       "'Hi'"
      ]
     },
     "execution_count": 272,
     "metadata": {},
     "output_type": "execute_result"
    }
   ],
   "source": [
    "p1._A__Hello()"
   ]
  }
 ],
 "metadata": {
  "kernelspec": {
   "display_name": "Python 3",
   "language": "python",
   "name": "python3"
  },
  "language_info": {
   "codemirror_mode": {
    "name": "ipython",
    "version": 3
   },
   "file_extension": ".py",
   "mimetype": "text/x-python",
   "name": "python",
   "nbconvert_exporter": "python",
   "pygments_lexer": "ipython3",
   "version": "3.7.3"
  }
 },
 "nbformat": 4,
 "nbformat_minor": 2
}
